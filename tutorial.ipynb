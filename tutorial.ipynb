{
 "cells": [
  {
   "cell_type": "markdown",
   "metadata": {},
   "source": [
    "# Welcome \n",
    "\n",
    "Oh hey.\n",
    "\n",
    "# Tutorial Overview: \n",
    "\n",
    "## What is Robotics?\n",
    "\n",
    "Robots are machines that move through the world and perform tasks. Robotics is the task of building, programming, and controlling robots. \n",
    "\n",
    "## What Will We Examine Today?\n",
    "\n",
    "We will focus on building up some basic programming skills and applying them to problems in planning and control of robot motion. \n",
    "\n",
    "### Programming\n",
    "\n",
    "We will be doing this lesson in Python. It is one of the main programming languages used in industry, research, and teaching. \n",
    "\n",
    "We will examine things like mathematical calculations, loops, and functions. These are basic building blocks found in software that we used all the time. \n",
    "\n",
    "### How Programming Relates to Robot Planning and Control\n",
    "\n",
    "Robots are controlled by computers. To move through the world and do their thing, they need to be programmed. The two main tasks we will examine are:\n",
    "\n",
    "* **Planning:** Determining a route the robot should take to get to a particular goal. Example: You (or someone with the group) planned the route you took to get to the tutorial. \n",
    "* **Control:** Controlling the movements of the robot to make sure it follows the planned route. Example: You controlled your arms and legs in order to follow the route to the tutorial.   \n",
    "\n",
    "## Key Idea: Building Complex Behaviors from Simple Ones\n",
    "\n",
    "In programming, robotics, and much else in life, big complex behaviors are built up from simpler ones. Some things we'll see:\n",
    "\n",
    "* How to construct a complex motion plan from a series of simpler plans\n",
    "* How the physical control of the robot influences its ability to follow a plan\n"
   ]
  },
  {
   "cell_type": "markdown",
   "metadata": {},
   "source": [
    "# Jupyter Notebooks and Introduction to Python\n",
    "\n",
    "This tutorial is run in a *Jupyter notebook*, which software for mixing text and code. We will be programming in Python, which is popular language for web development and scientific computing. \n",
    "\n",
    "Below is a \"code cell\" with the simplest Python program, \"Hello World!\". You can run code cells\n",
    "* Click the \"Run\" button at the top\n",
    "* Click the arrow on the side\n",
    "* Press `Shift`+`Enter`"
   ]
  },
  {
   "cell_type": "code",
   "execution_count": null,
   "metadata": {},
   "outputs": [],
   "source": [
    "print('Hello World!')"
   ]
  },
  {
   "cell_type": "markdown",
   "metadata": {},
   "source": [
    "## Comments, variables, and other basic operations\n",
    "\n",
    "Code is read by computers, but it also needs to be read by humans. \"Comments\" are pieces of text placed in code that don't do anything, but make it easier to read.\n",
    "\n",
    "*Variables* are used to store data, such as numbers or text. "
   ]
  },
  {
   "cell_type": "code",
   "execution_count": null,
   "metadata": {},
   "outputs": [],
   "source": [
    "# This is a comment.\n",
    "\n",
    "# i is an integer variable\n",
    "i = 5\n",
    "# j is another integer variable\n",
    "j = i + 3\n",
    "\n",
    "# This text variable is called string\n",
    "s = 'Oh dear'\n",
    "\n",
    "print(i)\n",
    "print(j)\n",
    "print(s)"
   ]
  },
  {
   "cell_type": "markdown",
   "metadata": {},
   "source": [
    "## Functions and Variables"
   ]
  },
  {
   "cell_type": "markdown",
   "metadata": {},
   "source": [
    "In \"Hello World!\", `print` is a Python function. Typically a function takes an input, and then does something with that input. Here is another example. Run it to see what happens."
   ]
  },
  {
   "cell_type": "code",
   "execution_count": null,
   "metadata": {},
   "outputs": [],
   "source": [
    "# This is a simple function\n",
    "def squared(x):\n",
    "    # the indented code is all part of the function\n",
    "    return x**2\n",
    "\n",
    "# This code is not indented, and is NOT part of the function\n",
    "print(1,'squared is',squared(1))\n",
    "print(2,'squared is',squared(2))\n",
    "print(3,'squared is',squared(3))"
   ]
  },
  {
   "cell_type": "markdown",
   "metadata": {},
   "source": [
    "## Exercise: `fiendishlyDifficultQuadratic`\n",
    "\n",
    "In the code cell below, define a function called `fiendishlyDifficultQuadratic` that takes an input $x$, and returns the value $x^2+5x-3$.\n",
    "\n",
    "As with the `squared` example, print out a few values to make sure that you have done it correctly."
   ]
  },
  {
   "cell_type": "code",
   "execution_count": null,
   "metadata": {},
   "outputs": [],
   "source": [
    "# Define your function here.\n",
    "\n",
    "# Print some outputs here"
   ]
  },
  {
   "cell_type": "markdown",
   "metadata": {},
   "source": [
    "# The Rolling Sphere\n",
    "\n",
    "In simulation studies, it is common to study simplified models. Here we will examine a rolling ball. Run the code below. \n",
    "\n",
    "* You can control the ball with the arrow keys\n",
    "* Press ESC to exit the simulation\n",
    "* You should exit the simulations before moving on to new parts of the code. It could lead to weird behavior if you don't."
   ]
  },
  {
   "cell_type": "markdown",
   "metadata": {},
   "source": [
    "Before we can work with this model, we need to load some functions. You *must* run this cell in order to do the rest of the tutorial."
   ]
  },
  {
   "cell_type": "code",
   "execution_count": 1,
   "metadata": {
    "scrolled": true
   },
   "outputs": [],
   "source": [
    "# Do not modify this code \n",
    "import discoverSTEM as ds\n",
    "import numpy as np\n",
    "\n",
    "%matplotlib inline"
   ]
  },
  {
   "cell_type": "code",
   "execution_count": null,
   "metadata": {
    "scrolled": true
   },
   "outputs": [],
   "source": [
    "# This code simulates the rolling ball\n",
    "ds.ballSmall()\n",
    "# After the simulation, the trajectory of the ball is plotted"
   ]
  },
  {
   "cell_type": "markdown",
   "metadata": {},
   "source": [
    "## The `ds.moveSphereTo` motion primative\n",
    "\n",
    "Here we describe a controller, `ds.moveSphereTo`, which moves the ball to a specific coordinate. First we show the coordinates of the environment."
   ]
  },
  {
   "cell_type": "code",
   "execution_count": null,
   "metadata": {},
   "outputs": [],
   "source": [
    "# This command shows the coordinates of the environment\n",
    "ds.smallLayout.plot()"
   ]
  },
  {
   "cell_type": "code",
   "execution_count": null,
   "metadata": {},
   "outputs": [],
   "source": [
    "# Here is an example of the moveSphereTo command\n",
    "mtController = ds.moveSphereTo(2,1)\n",
    "ds.ballSmall(mtController)"
   ]
  },
  {
   "cell_type": "markdown",
   "metadata": {},
   "source": [
    "## Exercise: Using the `ds.moveSphereTo` controller\n",
    "Play around with the code above to move the sphere to various points in the environment."
   ]
  },
  {
   "cell_type": "markdown",
   "metadata": {},
   "source": [
    "## Sequencing Movement Primitives and Lists\n",
    "\n",
    "Now we will use the `ctrl.moveSphereTo` command as a building block to create more complex motions. The command `ctrl.controllerSequence` takes a *list* of simpler controllers and builds a controller that executes them in a sequence. Run the code below to see how it works."
   ]
  },
  {
   "cell_type": "code",
   "execution_count": null,
   "metadata": {},
   "outputs": [],
   "source": [
    "# This is a list\n",
    "controllerList = [ds.moveSphereTo(2,2),\n",
    "                  ds.moveSphereTo(2,-2),\n",
    "                  ds.moveSphereTo(-2,-2),\n",
    "                  ds.moveSphereTo(-2,2),\n",
    "                  ds.moveSphereTo(0,0)]\n",
    "\n",
    "wpController = ds.controllerSequence(controllerList)\n",
    "ds.ballSmall(wpController)"
   ]
  },
  {
   "cell_type": "markdown",
   "metadata": {},
   "source": [
    "The points, such as $(2,2)$ and $(2,-2)$ that the sphere must pass through are called *waypoints*."
   ]
  },
  {
   "cell_type": "markdown",
   "metadata": {},
   "source": [
    "## Programming background: `for`-Loops\n",
    "\n",
    "The controller list above holds 5 different `moveSphereTo` commands. However, for longer lists, writing `ds.moveSphereTo` every time would be tedious and error prone. Loops enable such repetitive tasks to be automated.\n",
    "\n",
    "A useful loop is called the *for-loop*. It takes each element to a list and performs a computation on it. Here is an example."
   ]
  },
  {
   "cell_type": "code",
   "execution_count": null,
   "metadata": {},
   "outputs": [],
   "source": [
    "# This is a list.\n",
    "margotList = ['Margot','is', 'a', 'dog','and','I','love','her']\n",
    "\n",
    "# This is a for-loop\n",
    "for word in margotList:\n",
    "    # The indented code is executed for every word\n",
    "    print(word)"
   ]
  },
  {
   "cell_type": "markdown",
   "metadata": {},
   "source": [
    "\n",
    "This is Margot. \n",
    "<img src=\"figures/margot.JPG\" alt=\"Margot\" width=\"300px\"/>"
   ]
  },
  {
   "cell_type": "markdown",
   "metadata": {},
   "source": [
    "Here is an example of using a for-loop to make a new list"
   ]
  },
  {
   "cell_type": "code",
   "execution_count": null,
   "metadata": {},
   "outputs": [],
   "source": [
    "# here is a list of a bunch of numbers\n",
    "NumberList = [-5,2,0,2,-1,3]\n",
    "\n",
    "print('These are the original numbers')\n",
    "print(NumberList)\n",
    "\n",
    "# This is a list with no entries\n",
    "SquareList = []\n",
    "for n in NumberList:\n",
    "    # We add new entries to the list \n",
    "    SquareList.append(squared(n))\n",
    "    \n",
    "    \n",
    "print('This is list of their squares')\n",
    "print(SquareList)\n"
   ]
  },
  {
   "cell_type": "markdown",
   "metadata": {},
   "source": [
    "Here is a way of making the controller list using a for-loop. It does the same thing as the sequence of controllers that we had before. But now, we only needed to write `ds.moveSphereTo` once, instead of 5 times. This may not seem like much, but later we will change how we use the `ds.moveSphereTo` command. When we change it, we only need to modify 1 instance, instead of 5. "
   ]
  },
  {
   "cell_type": "code",
   "execution_count": null,
   "metadata": {},
   "outputs": [],
   "source": [
    "# First define the waypoints\n",
    "waypoints = [(2,2),\n",
    "             (2,-2),\n",
    "             (-2,-2),\n",
    "             (-2,2),\n",
    "             (0,0)]\n",
    "\n",
    "# Then define the controllers\n",
    "controllerList = []\n",
    "for x,y in waypoints:\n",
    "    movementPrimitive = ds.moveSphereTo(x,y)\n",
    "    controllerList.append(movementPrimitive)\n",
    "\n",
    "wpController = ds.controllerSequence(controllerList)\n",
    "ds.ballSmall(wpController)"
   ]
  },
  {
   "cell_type": "markdown",
   "metadata": {},
   "source": [
    "## Exercise: Fiendishly Difficult For-Loops\n",
    "\n",
    "Use a for-loop and your `fiendishlyDifficultQuadratic` function to compute $x^2+5x-3$ for each entry in `NumberList`. Save it in a new list called `fiendishList`."
   ]
  },
  {
   "cell_type": "code",
   "execution_count": null,
   "metadata": {},
   "outputs": [],
   "source": [
    "# Make your new list here\n",
    "\n",
    "# print it out here to make suer you did it correctly\n"
   ]
  },
  {
   "cell_type": "markdown",
   "metadata": {},
   "source": [
    "## The Maze Environment\n",
    "\n",
    "Now we will take what we learned about lists and movement primatives, and use it to navigate through a maze. The code cell below gives the layout and coordinates of the maze."
   ]
  },
  {
   "cell_type": "code",
   "execution_count": null,
   "metadata": {},
   "outputs": [],
   "source": [
    "layout = ds.mazeLayout\n",
    "layout.plot()"
   ]
  },
  {
   "cell_type": "markdown",
   "metadata": {},
   "source": [
    "The goal is to get from $(-4,-4)$ to the center, $(0,0)$."
   ]
  },
  {
   "cell_type": "code",
   "execution_count": null,
   "metadata": {},
   "outputs": [],
   "source": [
    "# If you want to solve the maze manually run this code\n",
    "ds.ballMaze()"
   ]
  },
  {
   "cell_type": "markdown",
   "metadata": {},
   "source": [
    "## Exercise: Navigation by waypoints\n",
    "\n",
    "* Make a list waypoints to solve the maze:\n",
    "    * Moving from one waypoint to the next should not hit a wall\n",
    "    * The final waypoint should be at the center, (0,0)\n",
    "* Use a for-loop to make a list which has a `ds.moveSphereTo` controller for each waypoint\n",
    "* Use the command `ds.controllerSequence` to make a controller called `ballMazeController` which solves the maze.\n",
    "\n",
    "Hint: some example code above does most of the work, but the waypoint sequence does not solve the maze."
   ]
  },
  {
   "cell_type": "code",
   "execution_count": null,
   "metadata": {},
   "outputs": [],
   "source": [
    "# Make your controller here\n",
    "\n",
    "# This will test your controller\n",
    "# It will only work if you named your controller ballMazeController\n",
    "\n",
    "ds.ballMaze(ballMazeController)"
   ]
  },
  {
   "cell_type": "markdown",
   "metadata": {},
   "source": [
    "Solving this problem using for-loops has an added advantage: If we want to change the `ds.moveSphereTo` command to something else, we only need to change one line."
   ]
  },
  {
   "cell_type": "markdown",
   "metadata": {},
   "source": [
    "## Feedback Control: Under the Hood"
   ]
  },
  {
   "cell_type": "markdown",
   "metadata": {},
   "source": [
    "The rolling sphere is modeled by Newton's equations. So, we need to apply forces to the ball to drive it to desired locations. We compute these forces using a method called *Proportional-Derivative Control* or PD Control. \n",
    "\n",
    "If $p$ is the current position, $p_{wp}$ is the desired waypoint position, and $v$ is the velocity, the PD controller gives a force defined by:\n",
    "\\begin{equation}\n",
    "F = -K_P (p-p_{wp}) - K_D v\n",
    "\\end{equation}\n",
    "* $K_P$ is the called *proportional gain*, since $K_P (p-p_{wp})$ is proportional to the error in the desired position. The force $-K_P (p-p_{wp})$ acts as a virtual spring between the sphere and the waypoint.\n",
    "* $K_D$ is the *derivtive gain*, since $K_D v$ is the derivative (from calculus) of the position error. The force $-K_D v$ acts as a virtual damper, slowing the system down. \n",
    "\n",
    "(Proportional-Derivative control is a special case of a method known as Proportional-Integral-Derivative (PID) control. It is used in applications like cruise controllers, autopilots, factory equipment, electric generators, and printers. Basically, if something moves on its own, there is good chance it is using a PID controller.)"
   ]
  },
  {
   "cell_type": "markdown",
   "metadata": {},
   "source": [
    "## Exercise: Experimenting with the Gains\n",
    "\n",
    "In the code below change the $K_P$ and $K_D$ values and see what happens.\n",
    "\n",
    "Below are some suggested experiments:\n",
    "\n",
    "* Hold $K_D$ fixed and vary $K_P$. \n",
    "    * For low values of $K_P$, the position should steadily rise to its limit of $1$.\n",
    "    * For intermediate values of $K_P$, the position will \"overshoot\", and then settle down to $1$.\n",
    "    * For large balues of $K_P$, the position will oscillate before settling down to $1$.\n",
    "\n",
    "* Try to find $K_P$ and $K_D$ so that:\n",
    "    * The position reaches $1$ at around $1/2$ second\n",
    "    * No over-shoot or oscillation occurs"
   ]
  },
  {
   "cell_type": "code",
   "execution_count": null,
   "metadata": {},
   "outputs": [],
   "source": [
    "# Try changing the K_P and K_D values\n",
    "\n",
    "K_P = 1\n",
    "K_D = 1\n",
    "\n",
    "# This is just the same command, ds.moveSphereTo, with some extra parameters passed in\n",
    "mtController = ds.moveSphereTo(1,1,K_P,K_D)\n",
    "ds.ballSmall(mtController)"
   ]
  },
  {
   "cell_type": "markdown",
   "metadata": {},
   "source": [
    "# Exercise: Tuning the Gains for High Performance\n",
    "\n",
    "Modify the controller you used to solve the maze by setting values for $K_P$ and $K_D$. \n",
    "* Try to get the solve time to be small. (Well chosen values can get the time down to around 3 seconds.)\n",
    "* Try to get the input energy to small. (Well chosen values can get the energy down to under 1 unit.)\n",
    "\n",
    "Think about the following questions:\n",
    "* What happens to the input energy when the solve time is small?\n",
    "* What happens to the solve time when the input energy is small?"
   ]
  },
  {
   "cell_type": "markdown",
   "metadata": {},
   "source": [
    "# The Differential Drive Car\n",
    "\n",
    "Now we will move on to a slightly more complex model, called the differential drive car. It is a model for vehicles like excavators and tanks, which can turn their wheels / tracks on either side of the vehicle independently. These vehicles are easier to maneuver than standard cars, since they can turn in place. \n",
    "\n",
    "For demo purposes, you can control it manually:\n",
    "* The arrows turn / move the vehicle\n",
    "* ESC exits the simulation"
   ]
  },
  {
   "cell_type": "code",
   "execution_count": null,
   "metadata": {},
   "outputs": [],
   "source": [
    "ds.carSmall()"
   ]
  },
  {
   "cell_type": "markdown",
   "metadata": {},
   "source": [
    "\n",
    "For this vehicle, we will build complex motions from two movement primitives:\n",
    "* Turning in place\n",
    "* Driving in a straight line\n",
    "\n",
    "## Exercise: Turning in place\n",
    "\n",
    "Similar to the rolling ball, we can use PD control to achieve desired angles. The code below uses PD control to turn from any angle to an angle of $\\pi/2$. Tune the gains $K_{P,ang}$  and $K_{D,ang}$ so that:\n",
    "* No overshoot occurs\n",
    "* The vehicle angle,  $\\theta$, converges to $\\pi/2$ in under 1 second."
   ]
  },
  {
   "cell_type": "code",
   "execution_count": 3,
   "metadata": {},
   "outputs": [
    {
     "data": {
      "image/png": "[encoded data removed]",
      "text/plain": [
       "<Figure size 432x288 with 3 Axes>"
      ]
     },
     "metadata": {
      "needs_background": "light"
     },
     "output_type": "display_data"
    }
   ],
   "source": [
    "K_P_ang = 1\n",
    "K_D_ang = 1\n",
    "# We represent the angle pi / 2 using the command np.pi/2\n",
    "turnController = ds.turnCar(np.pi/2,K_P_ang,K_D_ang)\n",
    "ds.carSmall(turnController)"
   ]
  },
  {
   "cell_type": "markdown",
   "metadata": {},
   "source": [
    "Play around with the code to make the vehicle turn to different angles "
   ]
  },
  {
   "cell_type": "markdown",
   "metadata": {},
   "source": [
    "## Exercise: Moving in straight line\n",
    "\n",
    "Again, we can use PD control to control the amount of forward movement of the system. Tune the gains $K_P$ and $K_D$ so that \n",
    "* No overshoot occurs\n",
    "* The $x$ value goes from $0$ to $1$ in approximately 1 second"
   ]
  },
  {
   "cell_type": "code",
   "execution_count": 11,
   "metadata": {},
   "outputs": [
    {
     "data": {
      "image/png": "[encoded data removed]",
      "text/plain": [
       "<Figure size 432x288 with 3 Axes>"
      ]
     },
     "metadata": {
      "needs_background": "light"
     },
     "output_type": "display_data"
    }
   ],
   "source": [
    "K_P_for = 1\n",
    "K_D_for = 1\n",
    "forwardController = ds.carForward(1,K_P_for,K_D_for)\n",
    "ds.carSmall(forwardController)"
   ]
  },
  {
   "cell_type": "markdown",
   "metadata": {},
   "source": [
    "Play around with the code (by changing 1 to something else) to make the car drive different distances."
   ]
  },
  {
   "cell_type": "markdown",
   "metadata": {},
   "source": [
    "##  Demonstration: Driving to a Desired Location\n",
    "\n",
    "If we want to drive to a particular location, we can first turn the car so it is pointing at the desired location, and then drive to it in a straight line. To do this, we first calculate the angle we need to point to the location and also the distance we need to travel. These are done by some helper functions. (These are done with some basic trigonometry.)"
   ]
  },
  {
   "cell_type": "code",
   "execution_count": 2,
   "metadata": {},
   "outputs": [],
   "source": [
    "def desired_angle(x_start,y_start,x_goal,y_goal):\n",
    "    dy = y_goal - y_start\n",
    "    dx = x_goal - x_start\n",
    "    return np.arctan2(dy,dx)\n",
    "\n",
    "def desired_distance(x_start,y_start,x_goal,y_goal):\n",
    "    return np.sqrt((x_goal-x_start)**2 + (y_goal-y_start)**2)\n",
    "    "
   ]
  },
  {
   "cell_type": "markdown",
   "metadata": {},
   "source": [
    "Run this code to see how the turn and drive controller works. If your car oscillates a lot, or bonks into the walls, your `K_D_ang` or `K_D_for` terms are probably too low."
   ]
  },
  {
   "cell_type": "code",
   "execution_count": 12,
   "metadata": {},
   "outputs": [
    {
     "data": {
      "image/png": "[encoded data removed]",
      "text/plain": [
       "<Figure size 432x288 with 3 Axes>"
      ]
     },
     "metadata": {
      "needs_background": "light"
     },
     "output_type": "display_data"
    }
   ],
   "source": [
    "# Calculate the Angle and Distance\n",
    "x_start = 0\n",
    "y_start = 0\n",
    "x_goal = 1\n",
    "y_goal = 2\n",
    "\n",
    "angle = desired_angle(x_start,y_start,x_goal,y_goal)\n",
    "distance = desired_distance(x_start,y_start,x_goal,y_goal)\n",
    "\n",
    "# Build the Controller from Simpler Controllers\n",
    "turnController = ds.turnCar(angle,K_P_ang,K_D_ang)\n",
    "driveController = ds.carForward(distance,K_P_for,K_D_for)\n",
    "carToPointController = ds.controllerSequence([turnController,driveController])\n",
    "ds.carSmall(carToPointController)"
   ]
  },
  {
   "cell_type": "markdown",
   "metadata": {},
   "source": [
    "## Exercise: \n",
    "\n",
    "Using `ctrl.turnCar`, `ctrl.carForward`, and `ctrl.controllerSequence` commands, design a controller that drives the car from its initial condition to the center of the maze. Call your controller `carMazeController`\n",
    "\n",
    "Hint: This can be accomplished by navigating to waypoints, as with the ball. Now, however, you can construct the motion like was done in the demonstration above: turn to the waypoint, and then drive to it. "
   ]
  },
  {
   "cell_type": "code",
   "execution_count": null,
   "metadata": {},
   "outputs": [],
   "source": [
    "# Define carMazeController here\n",
    "\n",
    "# It is helpful to know where we startfrom\n",
    "x_start = -4\n",
    "y_start = -4\n",
    "\n",
    "# This will test your controller\n",
    "# Remember, the controller won't work unless you call it carMazeController\n",
    "ds.carMaze(carMazeController)"
   ]
  },
  {
   "cell_type": "markdown",
   "metadata": {},
   "source": [
    "# Recap \n",
    "\n",
    "We saw how to build use feedback control to create simple movements called \"primatives.\" Then, we used these primatives to build controllers that could navigate through mazes. We focused on simple mobile robots, but this same basic idea works for other robots such as quadcopters and other tasks, such as object manipulation. \n",
    "\n"
   ]
  },
  {
   "cell_type": "code",
   "execution_count": null,
   "metadata": {},
   "outputs": [],
   "source": []
  }
 ],
 "metadata": {
  "kernelspec": {
   "display_name": "Python 3",
   "language": "python",
   "name": "python3"
  },
  "language_info": {
   "codemirror_mode": {
    "name": "ipython",
    "version": 3
   },
   "file_extension": ".py",
   "mimetype": "text/x-python",
   "name": "python",
   "nbconvert_exporter": "python",
   "pygments_lexer": "ipython3",
   "version": "3.8.10"
  }
 },
 "nbformat": 4,
 "nbformat_minor": 2
}
